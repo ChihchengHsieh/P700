{
 "cells": [
  {
   "cell_type": "code",
   "execution_count": 1,
   "metadata": {},
   "outputs": [],
   "source": [
    "from time import time\n",
    "import pickle\n",
    "import pandas as pd\n",
    "import matplotlib\n",
    "import matplotlib.pyplot as plt\n",
    "from sklearn.model_selection import train_test_split\n",
    "from sklearn.manifold import TSNE\n",
    "import os\n",
    "import torch\n",
    "import torch.nn as nn\n",
    "import torch.optim as optim\n",
    "from torch.nn.utils import clip_grad_norm\n",
    "from torch.utils.data import DataLoader\n",
    "import torch.utils.data as Data\n",
    "import numpy as np\n",
    "%matplotlib inline\n",
    "from sklearn.manifold import TSNE\n",
    "\n",
    "# Load data\n",
    "with open(\"data.txt\", \"rb\") as fp:   # Unpickling\n",
    "    df = pickle.load(fp)\n",
    "X = df[['left','right']]     \n",
    "Y = df['target']    "
   ]
  },
  {
   "cell_type": "code",
   "execution_count": 2,
   "metadata": {},
   "outputs": [],
   "source": [
    "#Seperate to training, validation, and test set\n",
    "X_train, X_test, Y_train, Y_test = train_test_split(X, Y, test_size=0.2, random_state = 64)\n",
    "validation_size = int(len(X_train) * 0.1)\n",
    "training_size = len(X_train) - validation_size\n",
    "X_train, X_validation, Y_train, Y_validation = train_test_split(X_train, Y_train, test_size=validation_size,random_state= 64)\n",
    "Y_test = Y_test.values\n",
    "Y_train = Y_train.values\n",
    "Y_validation = Y_validation.values"
   ]
  },
  {
   "cell_type": "code",
   "execution_count": 3,
   "metadata": {},
   "outputs": [
    {
     "name": "stdout",
     "output_type": "stream",
     "text": [
      "Training size: 2880\n",
      "Validation size: 320\n",
      "test size: 800\n"
     ]
    }
   ],
   "source": [
    "print('Training size:',X_train.shape[0])\n",
    "print('Validation size:',X_validation.shape[0])\n",
    "print('test size:',X_test.shape[0])"
   ]
  },
  {
   "cell_type": "code",
   "execution_count": 4,
   "metadata": {},
   "outputs": [],
   "source": [
    "#Check shape\n",
    "assert X_train['left'].shape == X_train['right'].shape\n",
    "assert len(X_train['left']) == len(Y_train)"
   ]
  },
  {
   "cell_type": "code",
   "execution_count": 5,
   "metadata": {},
   "outputs": [],
   "source": [
    "#Two help function\n",
    "def one_hot(s):\n",
    "    nb_digits=201\n",
    "    batch_size = s.shape[0]\n",
    "    seqlen = s.shape[1]\n",
    "    s_onehot = torch.FloatTensor(batch_size,seqlen,nb_digits)\n",
    "    s_onehot.zero_()\n",
    "    s_onehot.scatter_(2, s.unsqueeze(2), 1)\n",
    "    return s_onehot\n",
    "# def padding(data):\n",
    "#     left = [] \n",
    "#     maxlen= 50\n",
    "#     for i in range(data.shape[0]):\n",
    "#         diff = maxlen - len((data.iloc[i]['left']))\n",
    "#         if diff>=1:\n",
    "#             data.iloc[i]['left']+= [0]*diff\n",
    "#         left.append((data.iloc[i]['left']))\n",
    "#     right = [] \n",
    "#     maxlen= 50\n",
    "#     for i in range(data.shape[0]):\n",
    "#         diff = maxlen - len((data.iloc[i]['right']))\n",
    "#         if diff>=1:\n",
    "#             data.iloc[i]['right']+= [0]*diff\n",
    "#         right.append((data.iloc[i]['right']))\n",
    "#     return torch.tensor(np.array([right,left])).transpose(1,0)\n",
    "def padding(data):\n",
    "    left = [] \n",
    "    for i in range(data.shape[0]):\n",
    "        left.append((data.iloc[i]['left']))\n",
    "    right = [] \n",
    "    for i in range(data.shape[0]):\n",
    "        right.append((data.iloc[i]['right']))\n",
    "    return torch.tensor(np.array([right,left])).transpose(1,0)"
   ]
  },
  {
   "cell_type": "code",
   "execution_count": 6,
   "metadata": {},
   "outputs": [],
   "source": [
    "#Padding and creat the loaders\n",
    "X_train = padding(X_train)\n",
    "Y_train = torch.FloatTensor(np.array(Y_train))\n",
    "train_dataset  = Data.TensorDataset(X_train,Y_train)\n",
    "train_loader = DataLoader(train_dataset, batch_size=32,shuffle=True)\n",
    "\n",
    "X_validation = padding(X_validation)\n",
    "Y_validation = torch.FloatTensor(np.array(Y_validation))\n",
    "val_dataset  = Data.TensorDataset(X_validation,Y_validation)\n",
    "\n",
    "X_test = padding(X_test)\n",
    "Y_test = torch.FloatTensor(np.array(Y_test))\n",
    "test_dataset  = Data.TensorDataset(X_test,Y_test)"
   ]
  },
  {
   "cell_type": "code",
   "execution_count": 7,
   "metadata": {},
   "outputs": [
    {
     "data": {
      "text/plain": [
       "torch.Size([2880, 2, 50])"
      ]
     },
     "execution_count": 7,
     "metadata": {},
     "output_type": "execute_result"
    }
   ],
   "source": [
    "X_train.shape"
   ]
  },
  {
   "cell_type": "code",
   "execution_count": 10,
   "metadata": {},
   "outputs": [],
   "source": [
    "class LSTMEncoder(nn.Module):\n",
    "    \"\"\" Implements the network type integrated within the Siamese RNN architecture. \"\"\"\n",
    "    def __init__(self, opt, is_train=False):\n",
    "        super(LSTMEncoder, self).__init__()\n",
    "        self.node_size = opt['node_size']\n",
    "        self.name = 'sim_encoder'\n",
    "        self.hidden_size= opt['hidden_size']\n",
    "        self.num_layers= opt['num_layers']\n",
    "        self.embedding_dim = opt['embedding_dim']\n",
    "        self.bidirection_lstm = opt['bidirection_lstm']\n",
    "        self.seqlen = opt['seqlen']\n",
    "        self.batch_size = opt['batch_size']\n",
    "        self.embedding_table = nn.Embedding(num_embeddings=self.node_size, embedding_dim=self.embedding_dim,\n",
    "                                          padding_idx=0, max_norm=None, scale_grad_by_freq=False, sparse=False)\n",
    "        self.lstm_rnn = nn.LSTM(input_size=self.embedding_dim, hidden_size=self.hidden_size,\n",
    "                                num_layers=self.num_layers,bidirectional=self.bidirection_lstm)\n",
    "        if self.bidirection_lstm:\n",
    "            fc_size1= self.hidden_size*self.seqlen*2\n",
    "            fc_size2= 128\n",
    "        else:\n",
    "            fc_size1= self.hidden_size\n",
    "            fc_size2= 16\n",
    "        self.fc1= nn.Linear(fc_size1,fc_size2)\n",
    "        self.fc2= nn.Linear(fc_size2,2)\n",
    "        \n",
    "    def initialize_hidden_plus_cell(self, batch_size):\n",
    "        \"\"\" Re-initializes the hidden state, cell state, and the forget gate bias of the network. \"\"\"\n",
    "        if self.bidirection_lstm: \n",
    "            h0_size= self.num_layers*2\n",
    "        else:\n",
    "            h0_size= self.num_layers\n",
    "        zero_hidden = torch.randn(h0_size, batch_size, self.hidden_size)\n",
    "        zero_cell = torch.randn(h0_size, batch_size,self.hidden_size)\n",
    "        return zero_hidden, zero_cell\n",
    "\n",
    "    def forward(self, input_data, hidden, cell):\n",
    "        \"\"\" Performs a forward pass through the network. \"\"\"\n",
    "        output = self.embedding_table(input_data)\n",
    "        output, (hidden, cell) = self.lstm_rnn(output, (hidden, cell))\n",
    "        #print(output.shape)\n",
    "        #if self.bidirection_lstm:\n",
    "        #    output = nn.functional.relu(self.fc1(output.transpose(1,0).contiguous().view(self.batch_size,-1)))\n",
    "        #else:\n",
    "        #    output = nn.functional.relu(self.fc1(output[-1]))\n",
    "        #output = self.fc2(output) \n",
    "        return output[-1], hidden[-1], cell[-1]\n",
    "    "
   ]
  },
  {
   "cell_type": "code",
   "execution_count": 102,
   "metadata": {},
   "outputs": [],
   "source": [
    "class SiameseClassifier(nn.Module):\n",
    "    \"\"\" Sentence similarity estimator implementing a siamese arcitecture. Uses pretrained word2vec embeddings. \n",
    "    Different to the paper, the weights are untied, to avoid exploding/ vanishing gradients. \"\"\"\n",
    "    def __init__(self, opt, is_train=False):\n",
    "        super(SiameseClassifier, self).__init__()\n",
    "        self.learning_rate= opt['learning_rate']\n",
    "        # Initialize network\n",
    "        self.encoder_a =  LSTMEncoder(opt, is_train)\n",
    "        # Initialize network parameters\n",
    "        self.initialize_parameters()\n",
    "        # Declare loss function\n",
    "        self.loss_function = nn.MSELoss()\n",
    "        # Initialize network optimizers\n",
    "        self.optimizer_a = optim.Adam(self.encoder_a.parameters(), lr=self.learning_rate,\n",
    "                                      betas=(0.9, 0.999),weight_decay=0)\n",
    "        \n",
    "\n",
    "    def forward(self):\n",
    "        \"\"\" Performs a single forward pass through the siamese architecture. \"\"\"\n",
    "        \n",
    "        # Obtain the input length (each batch consists of padded sentences)\n",
    "        input_length = self.batch_a.size(0)\n",
    "        \n",
    "        # Obtain sentence encodings from each encoder\n",
    "        hidden_a, cell_a = self.encoder_a.initialize_hidden_plus_cell(self.batch_size)\n",
    "        output_a, hidden_a, cell_a = self.encoder_a(self.batch_a, hidden_a, cell_a)\n",
    "\n",
    "        hidden_b, cell_b = self.encoder_a.initialize_hidden_plus_cell(self.batch_size)\n",
    "        output_b, hidden_b, cell_b = self.encoder_a(self.batch_b, hidden_b, cell_b)\n",
    "\n",
    "        # Format sentence encodings as 2D tensors\n",
    "        self.encoding_a = output_a.squeeze()\n",
    "        self.encoding_b = output_b.squeeze()\n",
    "\n",
    "        # Obtain similarity score predictions by calculating the Manhattan distance between sentence encodings\n",
    "        if self.batch_size == 1:\n",
    "            self.prediction = torch.exp(-torch.norm((self.encoding_a - self.encoding_b), 1))\n",
    "        else:\n",
    "            self.prediction = torch.exp(-torch.norm((self.encoding_a - self.encoding_b), 1, 1))\n",
    "            \n",
    "\n",
    "    def get_loss(self):\n",
    "        \"\"\" Calculates the MSE loss between the network predictions and the ground truth. \"\"\"\n",
    "        # Loss is the L1 norm of the difference between the obtained sentence encodings\n",
    "        \n",
    "        self.loss = self.loss_function(self.prediction, self.labels)\n",
    "\n",
    "    def load_pretrained_parameters(self,pretrained_state_dict_path):\n",
    "        \"\"\" Loads the parameters learned during the pre-training on the SemEval data. \"\"\"\n",
    "        self.encoder_a.load_state_dict(torch.load(pretrained_state_dict_path))\n",
    "        print('Pretrained parameters have been successfully loaded into the encoder networks.')\n",
    "    \n",
    "    def save_lstm(self,path):\n",
    "        torch.save(self.encoder_a.state_dict(), path)\n",
    "\n",
    "    def initialize_parameters(self):\n",
    "        \"\"\" Initializes network parameters. \"\"\"\n",
    "        state_dict = self.encoder_a.state_dict()\n",
    "        for key in state_dict.keys():\n",
    "            if '.weight' in key:\n",
    "                state_dict[key] = torch.nn.init.xavier_normal_((state_dict[key]),gain=1)\n",
    "            if '.bias' in key:\n",
    "                bias_length = state_dict[key].size()[0]\n",
    "                start, end = bias_length // 4, bias_length // 2\n",
    "                state_dict[key][start:end].fill_(2.5)\n",
    "        self.encoder_a.load_state_dict(state_dict)\n",
    "        \n",
    "    def initialize_parametersX(self):\n",
    "        for p in self.encoder_a.parameters():\n",
    "            nn.init.xavier_normal_(p)\n",
    "\n",
    "    def train_step(self, train_batch_a, train_batch_b, train_labels):\n",
    "        \"\"\" Optimizes the parameters of the active networks, i.e. performs a single training step. \"\"\"\n",
    "        # Get batches\n",
    "        self.batch_a = train_batch_a.transpose(0,1)\n",
    "        self.batch_b = train_batch_b.transpose(0,1)\n",
    "        self.labels = train_labels\n",
    "        self.batch_size = self.batch_a.size(1)\n",
    "        self.encoder_a.zero_grad() \n",
    "        self.forward()\n",
    "        self.get_loss()\n",
    "        #l2_reg = None\n",
    "        #for i in classifier.encoder_a.lstm_rnn.parameters():\n",
    "        #    if l2_reg is None:\n",
    "        #        l2_reg = W.norm(2)\n",
    "        #    else:\n",
    "        #        l2_reg = l2_reg + W.norm(2)\n",
    "        #self.loss += l2_reg\n",
    "        self.loss.backward()\n",
    "        clip_grad_norm(self.encoder_a.parameters(), 0.25)\n",
    "        self.optimizer_a.step()\n",
    "\n",
    "    def test_step(self, test_batch_a, test_batch_b, test_labels):\n",
    "        \"\"\" Performs a single test step. \"\"\"\n",
    "        self.batch_a = test_batch_a.transpose(0,1)\n",
    "        self.batch_b = test_batch_b.transpose(0,1)\n",
    "        self.labels = test_labels\n",
    "        self.batch_size = self.batch_a.size(1)\n",
    "        self.forward()\n",
    "        self.get_loss()"
   ]
  },
  {
   "cell_type": "code",
   "execution_count": null,
   "metadata": {},
   "outputs": [],
   "source": []
  },
  {
   "cell_type": "code",
   "execution_count": 130,
   "metadata": {},
   "outputs": [
    {
     "name": "stdout",
     "output_type": "stream",
     "text": [
      "Initial learning_rate:  0.0001\n",
      "Current learning rate: 0.0001\n"
     ]
    },
    {
     "name": "stderr",
     "output_type": "stream",
     "text": [
      "/Users/richard/anaconda3/lib/python3.6/site-packages/ipykernel_launcher.py:90: UserWarning: torch.nn.utils.clip_grad_norm is now deprecated in favor of torch.nn.utils.clip_grad_norm_.\n",
      "/Users/richard/anaconda3/lib/python3.6/site-packages/ipykernel_launcher.py:56: UserWarning: invalid index of a 0-dim tensor. This will be an error in PyTorch 0.5. Use tensor.item() to convert a 0-dim tensor to a Python number\n"
     ]
    },
    {
     "name": "stdout",
     "output_type": "stream",
     "text": [
      "Epoch: 0  | Training Batch: 10   | loss: 0.4967  | accuracy: 0.5028 \n",
      "Epoch: 0  | Training Batch: 20   | loss: 0.4747  | accuracy: 0.5250 \n",
      "Epoch: 0  | Training Batch: 30   | loss: 0.5118  | accuracy: 0.4875 \n",
      "Epoch: 0  | Training Batch: 40   | loss: 0.5043  | accuracy: 0.4953 \n",
      "Average training batch  loss at epoch 0: 0.4956  | accuracy: 0.5038\n",
      "Average validation fold loss at epoch 0: 0.4709  | accuracy: 0.5281\n",
      "Current learning rate: 0.0001\n"
     ]
    },
    {
     "name": "stderr",
     "output_type": "stream",
     "text": [
      "/Users/richard/anaconda3/lib/python3.6/site-packages/ipykernel_launcher.py:91: UserWarning: invalid index of a 0-dim tensor. This will be an error in PyTorch 0.5. Use tensor.item() to convert a 0-dim tensor to a Python number\n"
     ]
    },
    {
     "name": "stdout",
     "output_type": "stream",
     "text": [
      "Epoch: 1  | Training Batch: 10   | loss: 0.4727  | accuracy: 0.5270 \n",
      "Epoch: 1  | Training Batch: 20   | loss: 0.5069  | accuracy: 0.4922 \n",
      "Epoch: 1  | Training Batch: 30   | loss: 0.5056  | accuracy: 0.4938 \n",
      "Epoch: 1  | Training Batch: 40   | loss: 0.5036  | accuracy: 0.4953 \n",
      "Average training batch  loss at epoch 1: 0.4955  | accuracy: 0.5038\n",
      "Average validation fold loss at epoch 1: 0.4702  | accuracy: 0.5281\n",
      "Current learning rate: 0.0001\n",
      "Epoch: 2  | Training Batch: 10   | loss: 0.5105  | accuracy: 0.4886 \n",
      "Epoch: 2  | Training Batch: 20   | loss: 0.5007  | accuracy: 0.4984 \n",
      "Epoch: 2  | Training Batch: 30   | loss: 0.4898  | accuracy: 0.5094 \n",
      "Epoch: 2  | Training Batch: 40   | loss: 0.4753  | accuracy: 0.5234 \n",
      "Average training batch  loss at epoch 2: 0.4954  | accuracy: 0.5038\n",
      "Average validation fold loss at epoch 2: 0.4707  | accuracy: 0.5281\n"
     ]
    }
   ],
   "source": [
    "num_epochs = 3\n",
    "pretrain=False\n",
    "threshold = 0.5\n",
    "opt = {\n",
    "    'node_size':201,\n",
    "    'hidden_size':30,\n",
    "    'num_layers':1,\n",
    "    'embedding_dim':50,\n",
    "    'learning_rate':0.0001,#10**np.random.uniform(-5, -3)\n",
    "#     'learning_rate':10**np.random.uniform(-5, -3),\n",
    "    'bidirection_lstm':False,\n",
    "    'seqlen':50,\n",
    "    'batch_size':64\n",
    "}\n",
    "print('Initial learning_rate: ',opt['learning_rate'])\n",
    "\n",
    "batch_size = opt['batch_size']\n",
    "# Initialize global tracking variables\n",
    "best_validation_accuracy = 0\n",
    "epochs_without_improvement = 0\n",
    "total_train_loss = []\n",
    "total_valid_loss = []\n",
    "total_train_acc = []\n",
    "total_valid_acc =[]\n",
    "avg_t_loss = []\n",
    "avg_t_acc = []\n",
    "avg_v_loss = []\n",
    "avg_v_acc = []\n",
    "\n",
    "# Loading model\n",
    "if pretrain:\n",
    "    classifier = torch.load('SiameseNN1.pt')\n",
    "else:\n",
    "    classifier = SiameseClassifier(opt, is_train=True)\n",
    "    # Initialize parameters\n",
    "    classifier.initialize_parameters()\n",
    "\n",
    "\n",
    "#Learning rate decay\n",
    "scheduler = optim.lr_scheduler.MultiStepLR(classifier.optimizer_a, milestones=[20,40,60,80], gamma=0.5)\n",
    "\n",
    "for epoch in range(num_epochs):\n",
    "    scheduler.step()\n",
    "    print('Current learning rate:',classifier.optimizer_a.param_groups[0]['lr'])\n",
    "    # Initiate the training data loader\n",
    "    train_loader = DataLoader(train_dataset, batch_size=batch_size,shuffle=True)\n",
    "    running_loss = []\n",
    "    running_acc= []\n",
    "    # Training loop\n",
    "    for i, (batch_x,label_var) in enumerate(train_loader):\n",
    "        s1_var = batch_x[:,0,:]\n",
    "        s2_var  = batch_x[:,1,:]\n",
    "        #s1_var = one_hot(s1_var)\n",
    "        #s2_var = one_hot(s2_var)\n",
    "        classifier.train_step(s1_var, s2_var, label_var)\n",
    "        train_batch_loss = classifier.loss.data[0]\n",
    "        train_batch_acc = np.mean((classifier.prediction>threshold).numpy()==(classifier.labels.numpy()))\n",
    "        running_loss.append(train_batch_loss)\n",
    "        running_acc.append(train_batch_acc)\n",
    "        total_train_loss.append(train_batch_loss)\n",
    "        total_train_acc.append(train_batch_acc)\n",
    "\n",
    "        if i % 10 == 0 and i != 0:\n",
    "            running_avg_acc = sum(running_acc)/len(running_acc)\n",
    "            running_avg_loss = sum(running_loss) / len(running_loss)\n",
    "            print('Epoch: %d  | Training Batch: %d   | loss: %.4f  | accuracy: %.4f ' %\n",
    "                  (epoch, i , running_avg_loss, running_avg_acc))\n",
    "            running_loss = []\n",
    "            running_acc=[]\n",
    "\n",
    "    # Report epoch statistics\n",
    "    avg_training_loss = sum(total_train_loss) / len(total_train_loss)\n",
    "    avg_training_acc = sum(total_train_acc)/len(total_train_acc)\n",
    "    print('Average training batch  loss at epoch %d: %.4f  | accuracy: %.4f' % (epoch, avg_training_loss, avg_training_acc))\n",
    "    avg_t_loss.append(avg_training_loss) \n",
    "    avg_t_acc.append(avg_training_acc)\n",
    "\n",
    "    # Validate after each epoch; set tracking variables\n",
    "    if epoch >= 0:\n",
    "        # Initiate the training data loader\n",
    "        valid_loader = DataLoader(val_dataset, batch_size=32,shuffle=True)\n",
    "        \n",
    "        # Validation loop (i.e. perform inference on the validation set)\n",
    "        for i, (batch_x,label_var) in enumerate(valid_loader):\n",
    "            s1_var = batch_x[:,0,:]\n",
    "            s2_var  = batch_x[:,1,:]\n",
    "            #s1_var = one_hot(s1_var)\n",
    "            #s2_var = one_hot(s2_var)\n",
    "            # Get predictions and update tracking values\n",
    "            classifier.test_step(s1_var, s2_var, label_var)\n",
    "            valid_batch_loss = classifier.loss.data[0]\n",
    "            valid_batch_acc = np.mean((classifier.prediction>threshold).numpy()==(classifier.labels.numpy()))\n",
    "            total_valid_loss.append(valid_batch_loss)\n",
    "            total_valid_acc.append(valid_batch_acc)\n",
    "\n",
    "        # Report fold statistics\n",
    "        avg_valid_loss = sum(total_valid_loss) / len(total_valid_loss)\n",
    "        avg_valid_acc = sum(total_valid_acc)/len(total_valid_acc)\n",
    "        print('Average validation fold loss at epoch %d: %.4f  | accuracy: %.4f' % (epoch, avg_valid_loss, avg_valid_acc))\n",
    "        avg_v_loss.append(avg_valid_loss)\n",
    "        avg_v_acc.append(avg_valid_acc)\n",
    "        # Save network parameters if performance has improved\n",
    "        if avg_valid_accuracy <= best_validation_accuracy:\n",
    "            epochs_without_improvement += 1\n",
    "        else:\n",
    "            best_validation_accuracy = avg_valid_accuracy\n",
    "            epochs_without_improvement = 0\n"
   ]
  },
  {
   "cell_type": "code",
   "execution_count": 129,
   "metadata": {},
   "outputs": [
    {
     "data": {
      "text/plain": [
       "<matplotlib.legend.Legend at 0x1a16a88630>"
      ]
     },
     "execution_count": 129,
     "metadata": {},
     "output_type": "execute_result"
    },
    {
     "data": {
      "image/png": "[encoded data removed]",
      "text/plain": [
       "<Figure size 1440x936 with 2 Axes>"
      ]
     },
     "metadata": {},
     "output_type": "display_data"
    }
   ],
   "source": [
    "fig, ax = plt.subplots(figsize= (20,13))\n",
    "plt.subplot(211)\n",
    "plt.plot(avg_t_acc,marker='o',label='Val')\n",
    "plt.plot(avg_v_acc,marker='o',label='Train')\n",
    "plt.ylabel('Accuracy',fontsize=15)\n",
    "plt.xlabel('Number of epochs',fontsize=15)\n",
    "plt.title('Accuracy',fontsize=20,fontweight =\"bold\")\n",
    "plt.legend(['Train', 'Validation'], loc='upper left')\n",
    "\n",
    "plt.subplot(212)\n",
    "plt.plot(avg_t_loss,marker='o',label='Val')\n",
    "plt.plot(avg_v_loss,marker='o',label='Train')\n",
    "plt.ylabel('Loss',fontsize=15)\n",
    "plt.xlabel('Number of epochs',fontsize=15)\n",
    "plt.title('Loss',fontsize=20,fontweight =\"bold\")\n",
    "plt.legend(['Train', 'Validation'], loc='upper left')\n",
    "\n",
    "#graph_path = \"./Pytorch_Results/FullDataOnlyLSTM1lr\" + str(opt['learning_rate']) +'Decay.png'\n",
    "#fig.savefig(graph_path)"
   ]
  },
  {
   "cell_type": "code",
   "execution_count": 53,
   "metadata": {},
   "outputs": [
    {
     "name": "stderr",
     "output_type": "stream",
     "text": [
      "/Users/richard/anaconda3/lib/python3.6/site-packages/torch/serialization.py:193: UserWarning: Couldn't retrieve source code for container of type SiameseClassifier. It won't be checked for correctness upon loading.\n",
      "  \"type \" + obj.__name__ + \". It won't be checked \"\n",
      "/Users/richard/anaconda3/lib/python3.6/site-packages/torch/serialization.py:193: UserWarning: Couldn't retrieve source code for container of type LSTMEncoder. It won't be checked for correctness upon loading.\n",
      "  \"type \" + obj.__name__ + \". It won't be checked \"\n"
     ]
    }
   ],
   "source": [
    "model_path = \"./Pytorch_Model/FullDataOnlyLSTM1lr\" + str(opt['learning_rate']) +'Decay.pt'\n",
    "torch.save(classifier, model_path)"
   ]
  },
  {
   "cell_type": "code",
   "execution_count": 55,
   "metadata": {},
   "outputs": [
    {
     "data": {
      "text/plain": [
       "odict_keys(['embedding_table.weight', 'lstm_rnn.weight_ih_l0', 'lstm_rnn.weight_hh_l0', 'lstm_rnn.bias_ih_l0', 'lstm_rnn.bias_hh_l0', 'fc1.weight', 'fc1.bias', 'fc2.weight', 'fc2.bias'])"
      ]
     },
     "execution_count": 55,
     "metadata": {},
     "output_type": "execute_result"
    }
   ],
   "source": [
    "classifier.encoder_a.state_dict().keys()"
   ]
  },
  {
   "cell_type": "code",
   "execution_count": 54,
   "metadata": {},
   "outputs": [
    {
     "name": "stdout",
     "output_type": "stream",
     "text": [
      "number of parameters in this model:  20420\n"
     ]
    }
   ],
   "source": [
    "def get_n_params(model):\n",
    "    pp=0\n",
    "    for p in list(model.parameters()):\n",
    "        nn=1\n",
    "        for s in list(p.size()):\n",
    "            nn = nn*s\n",
    "        pp += nn\n",
    "    return pp\n",
    "print(\"number of parameters in this model: \",get_n_params(classifier))"
   ]
  }
 ],
 "metadata": {
  "kernelspec": {
   "display_name": "Python 3",
   "language": "python",
   "name": "python3"
  },
  "language_info": {
   "codemirror_mode": {
    "name": "ipython",
    "version": 3
   },
   "file_extension": ".py",
   "mimetype": "text/x-python",
   "name": "python",
   "nbconvert_exporter": "python",
   "pygments_lexer": "ipython3",
   "version": "3.6.5"
  }
 },
 "nbformat": 4,
 "nbformat_minor": 2
}
